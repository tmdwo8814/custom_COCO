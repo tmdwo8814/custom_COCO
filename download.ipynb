{
 "cells": [
  {
   "cell_type": "code",
   "execution_count": null,
   "metadata": {},
   "outputs": [],
   "source": [
    "from pycocotools.coco import COCO\n",
    "import requests\n",
    "import os\n",
    "import shutil\n",
    "import zipfile"
   ]
  },
  {
   "cell_type": "code",
   "execution_count": null,
   "metadata": {},
   "outputs": [],
   "source": [
    "# folder path\n",
    "\n",
    "data_dir = os.getcwd()\n",
    "\n",
    "train_image_dir = os.path.join(data_dir, \"train2017\")\n",
    "val_image_dir = os.path.join(data_dir, \"val2017\")\n",
    "annotations_dir = os.path.join(data_dir, \"annotations\")\n",
    "train_val_annotation_file = os.path.join(annotations_dir, \"instances_trainval2017.json\")"
   ]
  },
  {
   "cell_type": "code",
   "execution_count": null,
   "metadata": {},
   "outputs": [],
   "source": [
    "os.makedirs(data_dir, exist_ok=True)\n",
    "os.makedirs(train_image_dir, exist_ok=True)\n",
    "os.makedirs(val_image_dir, exist_ok=True)\n",
    "os.makedirs(annotations_dir, exist_ok=True)"
   ]
  },
  {
   "cell_type": "code",
   "execution_count": null,
   "metadata": {},
   "outputs": [],
   "source": [
    "# coco dataset URL\n",
    "\n",
    "base_url = \"http://images.cocodataset.org\""
   ]
  },
  {
   "cell_type": "code",
   "execution_count": null,
   "metadata": {},
   "outputs": [],
   "source": [
    "# 2017 Train image download - 18GB\n",
    "train_image_zip_url = f\"{base_url}/zips/train2017.zip\"\n",
    "train_image_zip_path = os.path.join(data_dir, \"train2017.zip\")\n",
    "print(\"Downloading train images...\")\n",
    "response = requests.get(train_image_zip_url, stream=True)\n",
    "with open(train_image_zip_path, \"wb\") as f:\n",
    "    for chunk in response.iter_content(chunk_size=1024):\n",
    "        f.write(chunk)\n",
    "\n",
    "with zipfile.ZipFile(train_image_zip_path, 'r') as zip_ref:\n",
    "    zip_ref.extractall(os.getcwd())\n",
    "\n",
    "os.remove(train_image_zip_path)"
   ]
  },
  {
   "cell_type": "code",
   "execution_count": null,
   "metadata": {},
   "outputs": [],
   "source": [
    "# 2017 Val image download - 1GB\n",
    "val_image_zip_url = f\"{base_url}/zips/val2017.zip\"\n",
    "val_image_zip_path = os.path.join(data_dir, \"val2017.zip\")\n",
    "print(\"Downloading val images...\")\n",
    "response = requests.get(val_image_zip_url, stream=True)\n",
    "with open(val_image_zip_path, \"wb\") as f:\n",
    "    for chunk in response.iter_content(chunk_size=1024):\n",
    "        f.write(chunk)\n",
    "\n",
    "with zipfile.ZipFile(val_image_zip_path, 'r') as zip_ref:\n",
    "    zip_ref.extractall(os.getcwd())\n",
    "\n",
    "os.remove(val_image_zip_path)"
   ]
  },
  {
   "cell_type": "code",
   "execution_count": null,
   "metadata": {},
   "outputs": [],
   "source": [
    "# 2017 Train/Val annotations download\n",
    "\n",
    "train_val_annotation_url = f\"{base_url}/annotations/annotations_trainval2017.zip\"\n",
    "train_val_annotation_zip_path = os.path.join(annotations_dir, \"annotations_trainval2017.zip\")\n",
    "print(\"Downloading train/val annotations...\")\n",
    "response = requests.get(train_val_annotation_url, stream=True)\n",
    "with open(train_val_annotation_zip_path, \"wb\") as f:\n",
    "    for chunk in response.iter_content(chunk_size=1024):\n",
    "        f.write(chunk)\n",
    "        \n",
    "with zipfile.ZipFile(train_val_annotation_zip_path, 'r') as zip_ref:\n",
    "    zip_ref.extractall(os.getcwd())\n",
    "\n",
    "os.remove(train_val_annotation_zip_path)"
   ]
  }
 ],
 "metadata": {
  "language_info": {
   "name": "python"
  },
  "orig_nbformat": 4
 },
 "nbformat": 4,
 "nbformat_minor": 2
}
