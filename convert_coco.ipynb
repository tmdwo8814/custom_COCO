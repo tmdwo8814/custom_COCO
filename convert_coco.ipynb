{
 "cells": [
  {
   "cell_type": "markdown",
   "metadata": {},
   "source": [
    "## Custom COCO data to YOLO format "
   ]
  },
  {
   "cell_type": "code",
   "execution_count": null,
   "metadata": {},
   "outputs": [],
   "source": [
    "from pycocotools.coco import COCO\n",
    "import requests\n",
    "import shutil\n",
    "import os\n",
    "import json"
   ]
  },
  {
   "cell_type": "markdown",
   "metadata": {},
   "source": [
    "### make YOLO structure"
   ]
  },
  {
   "cell_type": "code",
   "execution_count": null,
   "metadata": {},
   "outputs": [],
   "source": [
    "train_image_dir = './coco/images/train'\n",
    "val_image_dir = './coco/images/val'\n",
    "train_anno_dir = './coco/labels/train'\n",
    "val_anno_dir = './coco/labels/val'"
   ]
  },
  {
   "cell_type": "code",
   "execution_count": null,
   "metadata": {},
   "outputs": [],
   "source": [
    "os.makedirs(train_image_dir, exist_ok=True)\n",
    "os.makedirs(val_image_dir, exist_ok=True)\n",
    "os.makedirs(train_anno_dir, exist_ok=True)\n",
    "os.makedirs(val_anno_dir, exist_ok=True)"
   ]
  },
  {
   "cell_type": "code",
   "execution_count": null,
   "metadata": {},
   "outputs": [],
   "source": [
    "coco = COCO('annotations/instances_train2017.json')\n",
    "coco_val = COCO('annotations/instances_val2017.json')"
   ]
  },
  {
   "cell_type": "markdown",
   "metadata": {},
   "source": [
    "### copy images to YOLO structure"
   ]
  },
  {
   "cell_type": "code",
   "execution_count": null,
   "metadata": {},
   "outputs": [],
   "source": [
    "# You can select classes in the coco dataset\n",
    "\n",
    "class_name = [\"dining table\", \"couch\", \"bed\", \"tv\", \"microwave\", \"toaster\", \"refrigerator\", \"oven\", \"hair drier\"]"
   ]
  },
  {
   "cell_type": "code",
   "execution_count": null,
   "metadata": {},
   "outputs": [],
   "source": [
    "for label in class_name:\n",
    "    name = [label]\n",
    "\n",
    "    catIds = coco.getCatIds(catNms=name)\n",
    "    imgIds = coco.getImgIds(catIds=catIds)\n",
    "    images = coco.loadImgs(imgIds)\n",
    "\n",
    "    catIds_val = coco_val.getCatIds(catNms=name)\n",
    "    imgIds_val = coco_val.getImgIds(catIds=catIds_val)\n",
    "    images_val = coco_val.loadImgs(imgIds_val)\n",
    "\n",
    "    count = 0\n",
    "\n",
    "    for im in images:\n",
    "        shutil.copy('./train2017/' + images[count][\"file_name\"], './coco/images/train')\n",
    "        count += 1\n",
    "    print(len(images),\"train images copy complete\")\n",
    "\n",
    "    count = 0\n",
    "\n",
    "    for im in images_val:\n",
    "        shutil.copy('./val2017/' + images_val[count][\"file_name\"], './coco/images/val')\n",
    "        count += 1\n",
    "    print(len(images_val),\"validation images copy complete\")"
   ]
  },
  {
   "cell_type": "markdown",
   "metadata": {},
   "source": [
    "### make annotations : Train"
   ]
  },
  {
   "cell_type": "code",
   "execution_count": null,
   "metadata": {},
   "outputs": [],
   "source": [
    "# for combine with OpenImageDatasetV7\n",
    "\n",
    "class_mapping_custom = {\n",
    "    \"dining table\": 12,\n",
    "    \"couch\": 6,\n",
    "    \"bed\": 1,\n",
    "    \"tv\": 26,\n",
    "    \"microwave\": 14,\n",
    "    \"toaster\": 27,\n",
    "    \"refrigerator\": 18,\n",
    "    \"oven\": 15,\n",
    "    \"hair drier\": 9    \n",
    "}"
   ]
  },
  {
   "cell_type": "code",
   "execution_count": null,
   "metadata": {},
   "outputs": [],
   "source": [
    "matching_category_ids = {\n",
    "    67: \"dining table\",\n",
    "    63: \"couch\",\n",
    "    65: \"bed\",\n",
    "    72: \"tv\",\n",
    "    78: \"microwave\",\n",
    "    80: \"toaster\",\n",
    "    82: \"refrigerator\",\n",
    "    79: \"oven\",\n",
    "    89: \"hair drier\"\n",
    "}\n",
    "\n",
    "label_check = [67, 63, 65, 72, 78, 80, 82, 79, 89]"
   ]
  },
  {
   "cell_type": "code",
   "execution_count": null,
   "metadata": {},
   "outputs": [],
   "source": [
    "# this file contains : info, licenses, images, annotations, categories\n",
    "# categories : supercategory, id, name==클래스명\n",
    "\n",
    "with open('./annotations/instances_train2017.json', \"r\") as f:\n",
    "    train_data = json.load(f)"
   ]
  },
  {
   "cell_type": "code",
   "execution_count": null,
   "metadata": {},
   "outputs": [],
   "source": [
    "# image_id : segmentation,area, iscrowd,image_id, bbox,category_id, id\n",
    "\n",
    "def get_img_ann(image_id):\n",
    "    img_ann = []\n",
    "    isFound = False\n",
    "    for ann in train_data['annotations']:\n",
    "        if ann['image_id'] == image_id:\n",
    "            img_ann.append(ann)\n",
    "            isFound = True\n",
    "    if isFound:\n",
    "        return img_ann\n",
    "    else:\n",
    "        return None"
   ]
  },
  {
   "cell_type": "code",
   "execution_count": null,
   "metadata": {},
   "outputs": [],
   "source": [
    "# file_name : {image_height, width}\n",
    "\n",
    "def get_img(filename):\n",
    "  for img in train_data['images']:\n",
    "    if img['file_name'] == filename:\n",
    "      return img"
   ]
  },
  {
   "cell_type": "code",
   "execution_count": null,
   "metadata": {},
   "outputs": [],
   "source": [
    "def get_class(image_id):\n",
    "    cat_id = 0\n",
    "    for ann in train_data['annotations']:\n",
    "        if ann['image_id'] == image_id:\n",
    "            cat_id = ann['category_id']\n",
    "            return cat_id"
   ]
  },
  {
   "cell_type": "code",
   "execution_count": null,
   "metadata": {},
   "outputs": [],
   "source": [
    "file_names = os.listdir('./coco/images/train')"
   ]
  },
  {
   "cell_type": "code",
   "execution_count": null,
   "metadata": {},
   "outputs": [],
   "source": [
    "for filename in file_names:\n",
    "    img = get_img(filename)\n",
    "    img_id = img['id']\n",
    "    img_w = img['width']\n",
    "    img_h = img['height']\n",
    "\n",
    "\n",
    "    img_ann = get_img_ann(img_id)\n",
    "\n",
    "    if img_ann:\n",
    "        file_object = open(f\"./coco/labels/train/{filename[:12]}.txt\", 'a')\n",
    "\n",
    "        for ann in img_ann:\n",
    "            # custom classes\n",
    "            if ann['category_id'] in label_check:\n",
    "                cat_id = ann['category_id']\n",
    "                cn = matching_category_ids[cat_id]\n",
    "                current_category = class_mapping_custom[cn]\n",
    "                \n",
    "                \n",
    "                current_bbox = ann['bbox']\n",
    "\n",
    "                x = current_bbox[0]\n",
    "                y = current_bbox[1]\n",
    "                w = current_bbox[2]\n",
    "                h = current_bbox[3]\n",
    "\n",
    "                # midpoints\n",
    "                x_centre = (x + (x+w))/2\n",
    "                y_centre = (y + (y+h))/2\n",
    "\n",
    "                # Normalization 0~1\n",
    "                x_centre = x_centre / img_w\n",
    "                y_centre = y_centre / img_h\n",
    "                w = w / img_w\n",
    "                h = h / img_h\n",
    "\n",
    "                # Limiting upto fix number of decimal places\n",
    "                x_centre = format(x_centre, '.6f')\n",
    "                y_centre = format(y_centre, '.6f')\n",
    "                w = format(w, '.6f')\n",
    "                h = format(h, '.6f')\n",
    "\n",
    "                file_object.write(f\"{current_category} {x_centre} {y_centre} {w} {h}\\n\")\n",
    "\n",
    "        file_object.close()"
   ]
  },
  {
   "cell_type": "markdown",
   "metadata": {},
   "source": [
    "### make annotations : Val"
   ]
  },
  {
   "cell_type": "code",
   "execution_count": null,
   "metadata": {},
   "outputs": [],
   "source": [
    "with open('./annotations/instances_val2017.json', \"r\") as f:\n",
    "    val_data = json.load(f)"
   ]
  },
  {
   "cell_type": "code",
   "execution_count": null,
   "metadata": {},
   "outputs": [],
   "source": [
    "val_file_names = os.listdir('./coco/images/val')"
   ]
  },
  {
   "cell_type": "code",
   "execution_count": null,
   "metadata": {},
   "outputs": [],
   "source": [
    "def get_img_ann(image_id):\n",
    "    img_ann = []\n",
    "    isFound = False\n",
    "    for ann in val_data['annotations']:\n",
    "        if ann['image_id'] == image_id:\n",
    "            img_ann.append(ann)\n",
    "            isFound = True\n",
    "    if isFound:\n",
    "        return img_ann\n",
    "    else:\n",
    "        return None"
   ]
  },
  {
   "cell_type": "code",
   "execution_count": null,
   "metadata": {},
   "outputs": [],
   "source": [
    "def get_img(filename):\n",
    "  for img in val_data['images']:\n",
    "    if img['file_name'] == filename:\n",
    "      return img"
   ]
  },
  {
   "cell_type": "code",
   "execution_count": null,
   "metadata": {},
   "outputs": [],
   "source": [
    "def get_class(image_id):\n",
    "    cat_id = 0\n",
    "    for ann in val_data['annotations']:\n",
    "        if ann['image_id'] == image_id:\n",
    "            cat_id = ann['category_id']\n",
    "            return cat_id"
   ]
  },
  {
   "cell_type": "code",
   "execution_count": null,
   "metadata": {},
   "outputs": [],
   "source": [
    "for filename in val_file_names:\n",
    "    img = get_img(filename)\n",
    "    img_id = img['id']\n",
    "    img_w = img['width']\n",
    "    img_h = img['height']\n",
    "\n",
    "\n",
    "    img_ann = get_img_ann(img_id)\n",
    "\n",
    "    if img_ann:\n",
    "        file_object = open(f\"./coco/labels/val/{filename[:12]}.txt\", 'a')\n",
    "\n",
    "        for ann in img_ann:\n",
    "            if ann['category_id'] in label_check:\n",
    "                cat_id = ann['category_id']\n",
    "                cn = matching_category_ids[cat_id]\n",
    "                current_category = class_mapping_custom[cn]\n",
    "                \n",
    "                \n",
    "                current_bbox = ann['bbox']\n",
    "\n",
    "                x = current_bbox[0]\n",
    "                y = current_bbox[1]\n",
    "                w = current_bbox[2]\n",
    "                h = current_bbox[3]\n",
    "\n",
    "                x_centre = (x + (x+w))/2\n",
    "                y_centre = (y + (y+h))/2\n",
    "\n",
    "                x_centre = x_centre / img_w\n",
    "                y_centre = y_centre / img_h\n",
    "                w = w / img_w\n",
    "                h = h / img_h\n",
    "\n",
    "                x_centre = format(x_centre, '.6f')\n",
    "                y_centre = format(y_centre, '.6f')\n",
    "                w = format(w, '.6f')\n",
    "                h = format(h, '.6f')\n",
    "\n",
    "                file_object.write(f\"{current_category} {x_centre} {y_centre} {w} {h}\\n\")\n",
    "\n",
    "        file_object.close()"
   ]
  }
 ],
 "metadata": {
  "kernelspec": {
   "display_name": "base",
   "language": "python",
   "name": "python3"
  },
  "language_info": {
   "codemirror_mode": {
    "name": "ipython",
    "version": 3
   },
   "file_extension": ".py",
   "mimetype": "text/x-python",
   "name": "python",
   "nbconvert_exporter": "python",
   "pygments_lexer": "ipython3",
   "version": "3.9.12"
  },
  "orig_nbformat": 4
 },
 "nbformat": 4,
 "nbformat_minor": 2
}
